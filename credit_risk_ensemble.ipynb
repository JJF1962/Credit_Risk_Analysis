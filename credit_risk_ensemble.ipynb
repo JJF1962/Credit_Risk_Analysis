{
  "nbformat": 4,
  "nbformat_minor": 0,
  "metadata": {
    "colab": {
      "name": "credit_risk_ensemble.ipynb",
      "provenance": [],
      "collapsed_sections": [],
      "toc_visible": true,
      "authorship_tag": "ABX9TyPNmemulTOZ/9kfPSW3XeSS",
      "include_colab_link": true
    },
    "kernelspec": {
      "name": "python3",
      "display_name": "Python 3"
    },
    "language_info": {
      "name": "python"
    }
  },
  "cells": [
    {
      "cell_type": "markdown",
      "metadata": {
        "id": "view-in-github",
        "colab_type": "text"
      },
      "source": [
        "<a href=\"https://colab.research.google.com/github/JJF1962/Credit_Risk_Analysis/blob/main/credit_risk_ensemble.ipynb\" target=\"_parent\"><img src=\"https://colab.research.google.com/assets/colab-badge.svg\" alt=\"Open In Colab\"/></a>"
      ]
    },
    {
      "cell_type": "code",
      "execution_count": 1,
      "metadata": {
        "id": "T2t1LpyN6lvc"
      },
      "outputs": [],
      "source": [
        "import warnings\n",
        "warnings.filterwarnings('ignore')"
      ]
    },
    {
      "cell_type": "code",
      "source": [
        "import numpy as np\n",
        "import pandas as pd\n",
        "from pathlib import Path\n",
        "from collections import Counter"
      ],
      "metadata": {
        "id": "LqFYJSj161YO"
      },
      "execution_count": 2,
      "outputs": []
    },
    {
      "cell_type": "code",
      "source": [
        "!pip install imblearn"
      ],
      "metadata": {
        "colab": {
          "base_uri": "https://localhost:8080/"
        },
        "id": "e4i5HmYfOf4R",
        "outputId": "4f433c0a-5fc1-4125-ca3d-1a68510efd8c"
      },
      "execution_count": 3,
      "outputs": [
        {
          "output_type": "stream",
          "name": "stdout",
          "text": [
            "Requirement already satisfied: imblearn in /usr/local/lib/python3.7/dist-packages (0.0)\n",
            "Requirement already satisfied: imbalanced-learn in /usr/local/lib/python3.7/dist-packages (from imblearn) (0.8.1)\n",
            "Requirement already satisfied: scikit-learn>=0.24 in /usr/local/lib/python3.7/dist-packages (from imbalanced-learn->imblearn) (1.0)\n",
            "Requirement already satisfied: scipy>=0.19.1 in /usr/local/lib/python3.7/dist-packages (from imbalanced-learn->imblearn) (1.4.1)\n",
            "Requirement already satisfied: numpy>=1.13.3 in /usr/local/lib/python3.7/dist-packages (from imbalanced-learn->imblearn) (1.21.6)\n",
            "Requirement already satisfied: joblib>=0.11 in /usr/local/lib/python3.7/dist-packages (from imbalanced-learn->imblearn) (1.1.0)\n",
            "Requirement already satisfied: threadpoolctl>=2.0.0 in /usr/local/lib/python3.7/dist-packages (from scikit-learn>=0.24->imbalanced-learn->imblearn) (3.1.0)\n"
          ]
        }
      ]
    },
    {
      "cell_type": "code",
      "source": [
        "from sklearn.ensemble import AdaBoostClassifier\n",
        "from sklearn.metrics import balanced_accuracy_score\n",
        "from sklearn.metrics import confusion_matrix\n",
        "from imblearn.metrics import classification_report_imbalanced"
      ],
      "metadata": {
        "id": "rHmSIGQ_QT41"
      },
      "execution_count": 4,
      "outputs": []
    },
    {
      "cell_type": "markdown",
      "source": [
        "# Read the CSV and Perform Basic Data **Cleaning**"
      ],
      "metadata": {
        "id": "W2NzlE5axHMW"
      }
    },
    {
      "cell_type": "code",
      "source": [
        "# https://help.lendingclub.com/hc/en-us/articles/215488038-What-do-the-different-Note-statuses-mean-\n",
        "\n",
        "columns = [\n",
        "    \"loan_amnt\", \"int_rate\", \"installment\", \"home_ownership\",\n",
        "    \"annual_inc\", \"verification_status\", \"issue_d\", \"loan_status\",\n",
        "    \"pymnt_plan\", \"dti\", \"delinq_2yrs\", \"inq_last_6mths\",\n",
        "    \"open_acc\", \"pub_rec\", \"revol_bal\", \"total_acc\",\n",
        "    \"initial_list_status\", \"out_prncp\", \"out_prncp_inv\", \"total_pymnt\",\n",
        "    \"total_pymnt_inv\", \"total_rec_prncp\", \"total_rec_int\", \"total_rec_late_fee\",\n",
        "    \"recoveries\", \"collection_recovery_fee\", \"last_pymnt_amnt\", \"next_pymnt_d\",\n",
        "    \"collections_12_mths_ex_med\", \"policy_code\", \"application_type\", \"acc_now_delinq\",\n",
        "    \"tot_coll_amt\", \"tot_cur_bal\", \"open_acc_6m\", \"open_act_il\",\n",
        "    \"open_il_12m\", \"open_il_24m\", \"mths_since_rcnt_il\", \"total_bal_il\",\n",
        "    \"il_util\", \"open_rv_12m\", \"open_rv_24m\", \"max_bal_bc\",\n",
        "    \"all_util\", \"total_rev_hi_lim\", \"inq_fi\", \"total_cu_tl\",\n",
        "    \"inq_last_12m\", \"acc_open_past_24mths\", \"avg_cur_bal\", \"bc_open_to_buy\",\n",
        "    \"bc_util\", \"chargeoff_within_12_mths\", \"delinq_amnt\", \"mo_sin_old_il_acct\",\n",
        "    \"mo_sin_old_rev_tl_op\", \"mo_sin_rcnt_rev_tl_op\", \"mo_sin_rcnt_tl\", \"mort_acc\",\n",
        "    \"mths_since_recent_bc\", \"mths_since_recent_inq\", \"num_accts_ever_120_pd\", \"num_actv_bc_tl\",\n",
        "    \"num_actv_rev_tl\", \"num_bc_sats\", \"num_bc_tl\", \"num_il_tl\",\n",
        "    \"num_op_rev_tl\", \"num_rev_accts\", \"num_rev_tl_bal_gt_0\",\n",
        "    \"num_sats\", \"num_tl_120dpd_2m\", \"num_tl_30dpd\", \"num_tl_90g_dpd_24m\",\n",
        "    \"num_tl_op_past_12m\", \"pct_tl_nvr_dlq\", \"percent_bc_gt_75\", \"pub_rec_bankruptcies\",\n",
        "    \"tax_liens\", \"tot_hi_cred_lim\", \"total_bal_ex_mort\", \"total_bc_limit\",\n",
        "    \"total_il_high_credit_limit\", \"hardship_flag\", \"debt_settlement_flag\"\n",
        "]\n",
        "\n",
        "target = [\"loan_status\"]"
      ],
      "metadata": {
        "id": "vYrxu1gW67AZ"
      },
      "execution_count": 5,
      "outputs": []
    },
    {
      "cell_type": "code",
      "source": [
        "# Load the data\n",
        "file_path = Path('LoanStats_2019Q1.csv')\n",
        "df = pd.read_csv(file_path, skiprows=1)[:-2]\n",
        "df = df.loc[:, columns].copy()\n",
        "\n",
        "# Drop the null columns where all values are null\n",
        "df = df.dropna(axis='columns', how='all')\n",
        "\n",
        "# Drop the null rows\n",
        "df = df.dropna()\n",
        "\n",
        "# Remove the `Issued` loan status\n",
        "issued_mask = df['loan_status'] != 'Issued'\n",
        "df = df.loc[issued_mask]\n",
        "\n",
        "# convert interest rate to numerical\n",
        "df['int_rate'] = df['int_rate'].str.replace('%', '')\n",
        "df['int_rate'] = df['int_rate'].astype('float') / 100\n",
        "\n",
        "\n",
        "# Convert the target column values to low_risk and high_risk based on their values\n",
        "x = {'Current': 'low_risk'}   \n",
        "df = df.replace(x)\n",
        "\n",
        "x = dict.fromkeys(['Late (31-120 days)', 'Late (16-30 days)', 'Default', 'In Grace Period'], 'high_risk')    \n",
        "df = df.replace(x)\n",
        "\n",
        "df.reset_index(inplace=True, drop=True)\n",
        "\n",
        "df.head()"
      ],
      "metadata": {
        "colab": {
          "base_uri": "https://localhost:8080/",
          "height": 386
        },
        "id": "NRNXmcwU6_w6",
        "outputId": "4d4582ba-74fb-40cf-bcb5-7b8935c48ff4"
      },
      "execution_count": 6,
      "outputs": [
        {
          "output_type": "execute_result",
          "data": {
            "text/plain": [
              "   loan_amnt  int_rate  installment home_ownership  annual_inc  \\\n",
              "0    10500.0    0.1719       375.35           RENT     66000.0   \n",
              "1    25000.0    0.2000       929.09       MORTGAGE    105000.0   \n",
              "2    20000.0    0.2000       529.88       MORTGAGE     56000.0   \n",
              "3    10000.0    0.1640       353.55           RENT     92000.0   \n",
              "4    22000.0    0.1474       520.39       MORTGAGE     52000.0   \n",
              "\n",
              "  verification_status   issue_d loan_status pymnt_plan    dti  ...  \\\n",
              "0     Source Verified  Mar-2019    low_risk          n  27.24  ...   \n",
              "1            Verified  Mar-2019    low_risk          n  20.23  ...   \n",
              "2            Verified  Mar-2019    low_risk          n  24.26  ...   \n",
              "3            Verified  Mar-2019    low_risk          n  31.44  ...   \n",
              "4        Not Verified  Mar-2019    low_risk          n  18.76  ...   \n",
              "\n",
              "   pct_tl_nvr_dlq  percent_bc_gt_75  pub_rec_bankruptcies  tax_liens  \\\n",
              "0            85.7             100.0                   0.0        0.0   \n",
              "1            91.2              50.0                   1.0        0.0   \n",
              "2            66.7              50.0                   0.0        0.0   \n",
              "3           100.0              50.0                   1.0        0.0   \n",
              "4           100.0               0.0                   0.0        0.0   \n",
              "\n",
              "   tot_hi_cred_lim  total_bal_ex_mort total_bc_limit  \\\n",
              "0          65687.0            38199.0         2000.0   \n",
              "1         271427.0            60641.0        41200.0   \n",
              "2          60644.0            45684.0         7500.0   \n",
              "3          99506.0            68784.0        19700.0   \n",
              "4         219750.0            25919.0        27600.0   \n",
              "\n",
              "   total_il_high_credit_limit  hardship_flag  debt_settlement_flag  \n",
              "0                     61987.0              N                     N  \n",
              "1                     49197.0              N                     N  \n",
              "2                     43144.0              N                     N  \n",
              "3                     76506.0              N                     N  \n",
              "4                     20000.0              N                     N  \n",
              "\n",
              "[5 rows x 86 columns]"
            ],
            "text/html": [
              "\n",
              "  <div id=\"df-c8cea957-9e29-4230-b8ed-705e84957214\">\n",
              "    <div class=\"colab-df-container\">\n",
              "      <div>\n",
              "<style scoped>\n",
              "    .dataframe tbody tr th:only-of-type {\n",
              "        vertical-align: middle;\n",
              "    }\n",
              "\n",
              "    .dataframe tbody tr th {\n",
              "        vertical-align: top;\n",
              "    }\n",
              "\n",
              "    .dataframe thead th {\n",
              "        text-align: right;\n",
              "    }\n",
              "</style>\n",
              "<table border=\"1\" class=\"dataframe\">\n",
              "  <thead>\n",
              "    <tr style=\"text-align: right;\">\n",
              "      <th></th>\n",
              "      <th>loan_amnt</th>\n",
              "      <th>int_rate</th>\n",
              "      <th>installment</th>\n",
              "      <th>home_ownership</th>\n",
              "      <th>annual_inc</th>\n",
              "      <th>verification_status</th>\n",
              "      <th>issue_d</th>\n",
              "      <th>loan_status</th>\n",
              "      <th>pymnt_plan</th>\n",
              "      <th>dti</th>\n",
              "      <th>...</th>\n",
              "      <th>pct_tl_nvr_dlq</th>\n",
              "      <th>percent_bc_gt_75</th>\n",
              "      <th>pub_rec_bankruptcies</th>\n",
              "      <th>tax_liens</th>\n",
              "      <th>tot_hi_cred_lim</th>\n",
              "      <th>total_bal_ex_mort</th>\n",
              "      <th>total_bc_limit</th>\n",
              "      <th>total_il_high_credit_limit</th>\n",
              "      <th>hardship_flag</th>\n",
              "      <th>debt_settlement_flag</th>\n",
              "    </tr>\n",
              "  </thead>\n",
              "  <tbody>\n",
              "    <tr>\n",
              "      <th>0</th>\n",
              "      <td>10500.0</td>\n",
              "      <td>0.1719</td>\n",
              "      <td>375.35</td>\n",
              "      <td>RENT</td>\n",
              "      <td>66000.0</td>\n",
              "      <td>Source Verified</td>\n",
              "      <td>Mar-2019</td>\n",
              "      <td>low_risk</td>\n",
              "      <td>n</td>\n",
              "      <td>27.24</td>\n",
              "      <td>...</td>\n",
              "      <td>85.7</td>\n",
              "      <td>100.0</td>\n",
              "      <td>0.0</td>\n",
              "      <td>0.0</td>\n",
              "      <td>65687.0</td>\n",
              "      <td>38199.0</td>\n",
              "      <td>2000.0</td>\n",
              "      <td>61987.0</td>\n",
              "      <td>N</td>\n",
              "      <td>N</td>\n",
              "    </tr>\n",
              "    <tr>\n",
              "      <th>1</th>\n",
              "      <td>25000.0</td>\n",
              "      <td>0.2000</td>\n",
              "      <td>929.09</td>\n",
              "      <td>MORTGAGE</td>\n",
              "      <td>105000.0</td>\n",
              "      <td>Verified</td>\n",
              "      <td>Mar-2019</td>\n",
              "      <td>low_risk</td>\n",
              "      <td>n</td>\n",
              "      <td>20.23</td>\n",
              "      <td>...</td>\n",
              "      <td>91.2</td>\n",
              "      <td>50.0</td>\n",
              "      <td>1.0</td>\n",
              "      <td>0.0</td>\n",
              "      <td>271427.0</td>\n",
              "      <td>60641.0</td>\n",
              "      <td>41200.0</td>\n",
              "      <td>49197.0</td>\n",
              "      <td>N</td>\n",
              "      <td>N</td>\n",
              "    </tr>\n",
              "    <tr>\n",
              "      <th>2</th>\n",
              "      <td>20000.0</td>\n",
              "      <td>0.2000</td>\n",
              "      <td>529.88</td>\n",
              "      <td>MORTGAGE</td>\n",
              "      <td>56000.0</td>\n",
              "      <td>Verified</td>\n",
              "      <td>Mar-2019</td>\n",
              "      <td>low_risk</td>\n",
              "      <td>n</td>\n",
              "      <td>24.26</td>\n",
              "      <td>...</td>\n",
              "      <td>66.7</td>\n",
              "      <td>50.0</td>\n",
              "      <td>0.0</td>\n",
              "      <td>0.0</td>\n",
              "      <td>60644.0</td>\n",
              "      <td>45684.0</td>\n",
              "      <td>7500.0</td>\n",
              "      <td>43144.0</td>\n",
              "      <td>N</td>\n",
              "      <td>N</td>\n",
              "    </tr>\n",
              "    <tr>\n",
              "      <th>3</th>\n",
              "      <td>10000.0</td>\n",
              "      <td>0.1640</td>\n",
              "      <td>353.55</td>\n",
              "      <td>RENT</td>\n",
              "      <td>92000.0</td>\n",
              "      <td>Verified</td>\n",
              "      <td>Mar-2019</td>\n",
              "      <td>low_risk</td>\n",
              "      <td>n</td>\n",
              "      <td>31.44</td>\n",
              "      <td>...</td>\n",
              "      <td>100.0</td>\n",
              "      <td>50.0</td>\n",
              "      <td>1.0</td>\n",
              "      <td>0.0</td>\n",
              "      <td>99506.0</td>\n",
              "      <td>68784.0</td>\n",
              "      <td>19700.0</td>\n",
              "      <td>76506.0</td>\n",
              "      <td>N</td>\n",
              "      <td>N</td>\n",
              "    </tr>\n",
              "    <tr>\n",
              "      <th>4</th>\n",
              "      <td>22000.0</td>\n",
              "      <td>0.1474</td>\n",
              "      <td>520.39</td>\n",
              "      <td>MORTGAGE</td>\n",
              "      <td>52000.0</td>\n",
              "      <td>Not Verified</td>\n",
              "      <td>Mar-2019</td>\n",
              "      <td>low_risk</td>\n",
              "      <td>n</td>\n",
              "      <td>18.76</td>\n",
              "      <td>...</td>\n",
              "      <td>100.0</td>\n",
              "      <td>0.0</td>\n",
              "      <td>0.0</td>\n",
              "      <td>0.0</td>\n",
              "      <td>219750.0</td>\n",
              "      <td>25919.0</td>\n",
              "      <td>27600.0</td>\n",
              "      <td>20000.0</td>\n",
              "      <td>N</td>\n",
              "      <td>N</td>\n",
              "    </tr>\n",
              "  </tbody>\n",
              "</table>\n",
              "<p>5 rows × 86 columns</p>\n",
              "</div>\n",
              "      <button class=\"colab-df-convert\" onclick=\"convertToInteractive('df-c8cea957-9e29-4230-b8ed-705e84957214')\"\n",
              "              title=\"Convert this dataframe to an interactive table.\"\n",
              "              style=\"display:none;\">\n",
              "        \n",
              "  <svg xmlns=\"http://www.w3.org/2000/svg\" height=\"24px\"viewBox=\"0 0 24 24\"\n",
              "       width=\"24px\">\n",
              "    <path d=\"M0 0h24v24H0V0z\" fill=\"none\"/>\n",
              "    <path d=\"M18.56 5.44l.94 2.06.94-2.06 2.06-.94-2.06-.94-.94-2.06-.94 2.06-2.06.94zm-11 1L8.5 8.5l.94-2.06 2.06-.94-2.06-.94L8.5 2.5l-.94 2.06-2.06.94zm10 10l.94 2.06.94-2.06 2.06-.94-2.06-.94-.94-2.06-.94 2.06-2.06.94z\"/><path d=\"M17.41 7.96l-1.37-1.37c-.4-.4-.92-.59-1.43-.59-.52 0-1.04.2-1.43.59L10.3 9.45l-7.72 7.72c-.78.78-.78 2.05 0 2.83L4 21.41c.39.39.9.59 1.41.59.51 0 1.02-.2 1.41-.59l7.78-7.78 2.81-2.81c.8-.78.8-2.07 0-2.86zM5.41 20L4 18.59l7.72-7.72 1.47 1.35L5.41 20z\"/>\n",
              "  </svg>\n",
              "      </button>\n",
              "      \n",
              "  <style>\n",
              "    .colab-df-container {\n",
              "      display:flex;\n",
              "      flex-wrap:wrap;\n",
              "      gap: 12px;\n",
              "    }\n",
              "\n",
              "    .colab-df-convert {\n",
              "      background-color: #E8F0FE;\n",
              "      border: none;\n",
              "      border-radius: 50%;\n",
              "      cursor: pointer;\n",
              "      display: none;\n",
              "      fill: #1967D2;\n",
              "      height: 32px;\n",
              "      padding: 0 0 0 0;\n",
              "      width: 32px;\n",
              "    }\n",
              "\n",
              "    .colab-df-convert:hover {\n",
              "      background-color: #E2EBFA;\n",
              "      box-shadow: 0px 1px 2px rgba(60, 64, 67, 0.3), 0px 1px 3px 1px rgba(60, 64, 67, 0.15);\n",
              "      fill: #174EA6;\n",
              "    }\n",
              "\n",
              "    [theme=dark] .colab-df-convert {\n",
              "      background-color: #3B4455;\n",
              "      fill: #D2E3FC;\n",
              "    }\n",
              "\n",
              "    [theme=dark] .colab-df-convert:hover {\n",
              "      background-color: #434B5C;\n",
              "      box-shadow: 0px 1px 3px 1px rgba(0, 0, 0, 0.15);\n",
              "      filter: drop-shadow(0px 1px 2px rgba(0, 0, 0, 0.3));\n",
              "      fill: #FFFFFF;\n",
              "    }\n",
              "  </style>\n",
              "\n",
              "      <script>\n",
              "        const buttonEl =\n",
              "          document.querySelector('#df-c8cea957-9e29-4230-b8ed-705e84957214 button.colab-df-convert');\n",
              "        buttonEl.style.display =\n",
              "          google.colab.kernel.accessAllowed ? 'block' : 'none';\n",
              "\n",
              "        async function convertToInteractive(key) {\n",
              "          const element = document.querySelector('#df-c8cea957-9e29-4230-b8ed-705e84957214');\n",
              "          const dataTable =\n",
              "            await google.colab.kernel.invokeFunction('convertToInteractive',\n",
              "                                                     [key], {});\n",
              "          if (!dataTable) return;\n",
              "\n",
              "          const docLinkHtml = 'Like what you see? Visit the ' +\n",
              "            '<a target=\"_blank\" href=https://colab.research.google.com/notebooks/data_table.ipynb>data table notebook</a>'\n",
              "            + ' to learn more about interactive tables.';\n",
              "          element.innerHTML = '';\n",
              "          dataTable['output_type'] = 'display_data';\n",
              "          await google.colab.output.renderOutput(dataTable, element);\n",
              "          const docLink = document.createElement('div');\n",
              "          docLink.innerHTML = docLinkHtml;\n",
              "          element.appendChild(docLink);\n",
              "        }\n",
              "      </script>\n",
              "    </div>\n",
              "  </div>\n",
              "  "
            ]
          },
          "metadata": {},
          "execution_count": 6
        }
      ]
    },
    {
      "cell_type": "markdown",
      "source": [
        "# Split the Data into Training and **Testing**"
      ],
      "metadata": {
        "id": "3FY-SlaJxbNO"
      }
    },
    {
      "cell_type": "code",
      "source": [
        "# Create our features\n",
        "X = df.drop(columns='loan_status')\n",
        "X = pd.get_dummies(X)\n",
        "\n",
        "# Create our target\n",
        "y = df.loc[:, target].copy()"
      ],
      "metadata": {
        "id": "OfPZbOyI9cHO"
      },
      "execution_count": 7,
      "outputs": []
    },
    {
      "cell_type": "code",
      "source": [
        "# Check the balance of our target values\n",
        "y['loan_status'].value_counts()"
      ],
      "metadata": {
        "colab": {
          "base_uri": "https://localhost:8080/"
        },
        "id": "bodfmdIR9ke0",
        "outputId": "b6fc1776-ed7b-4e2e-d81e-55f7a80b14c4"
      },
      "execution_count": 8,
      "outputs": [
        {
          "output_type": "execute_result",
          "data": {
            "text/plain": [
              "low_risk     68470\n",
              "high_risk      347\n",
              "Name: loan_status, dtype: int64"
            ]
          },
          "metadata": {},
          "execution_count": 8
        }
      ]
    },
    {
      "cell_type": "code",
      "source": [
        "from sklearn.model_selection import train_test_split\n",
        "X_train, X_test, y_train, y_test = train_test_split(X, y, random_state=1)"
      ],
      "metadata": {
        "id": "sY3V4HVs9qgG"
      },
      "execution_count": 9,
      "outputs": []
    },
    {
      "cell_type": "markdown",
      "source": [
        "# **Ensemble Learners**\n",
        "\n",
        "In this section, you will compare two ensemble algorithms to determine which algorithm results in the best performance. You will train a Balanced Random Forest Classifier and an Easy Ensemble AdaBoost classifier . For each algorithm, be sure to complete the folliowing steps:\n",
        "\n",
        "1. Train the model using the training data.\n",
        "2. Calculate the balanced accuracy score from sklearn.metrics.\n",
        "3. Print the confusion matrix from sklearn.metrics.\n",
        "4. Generate a classication report using the imbalanced_classification_report from imbalanced-learn.\n",
        "5. For the Balanced Random Forest Classifier onely, print the feature importance sorted in descending order (most important feature to least important) along with the feature score\n",
        "\n",
        "Note: Use a random state of 1 for each algorithm to ensure consistency between tests"
      ],
      "metadata": {
        "id": "-2UBeEMOxt_0"
      }
    },
    {
      "cell_type": "markdown",
      "source": [
        "# **Balanced Random Forest Classifier**"
      ],
      "metadata": {
        "id": "UR2UHebO5Cgt"
      }
    },
    {
      "cell_type": "code",
      "source": [
        "from sklearn.preprocessing import StandardScaler\n",
        "scaler = StandardScaler()"
      ],
      "metadata": {
        "id": "gH-5BEomAOw9"
      },
      "execution_count": 10,
      "outputs": []
    },
    {
      "cell_type": "code",
      "source": [
        "X_scaler = scaler.fit(X_train)"
      ],
      "metadata": {
        "id": "2COZxUB9ATLA"
      },
      "execution_count": 11,
      "outputs": []
    },
    {
      "cell_type": "code",
      "source": [
        "# X_train_scaled.shape, y_train.shape"
      ],
      "metadata": {
        "id": "X_p5FaFcCaIT"
      },
      "execution_count": 12,
      "outputs": []
    },
    {
      "cell_type": "code",
      "source": [
        "# Resample the training data with the BalancedRandomForestClassifier\n",
        "# from imblearn.ensemble import BalancedRandomForestClassifier\n",
        "from imblearn.ensemble import BalancedRandomForestClassifier\n",
        "\n",
        "X_train_scaled = X_scaler.transform(X_train)\n",
        "X_test_scaled = X_scaler.transform(X_test)\n",
        "\n",
        "X_train_scaled.shape \n",
        "\n",
        "\n",
        "# Create a random forest classifier\n",
        "brf = BalancedRandomForestClassifier(n_estimators=500, random_state=1)\n",
        "\n",
        "# Fitting the model\n",
        "brf.fit(X_train_scaled, y_train)"
      ],
      "metadata": {
        "colab": {
          "base_uri": "https://localhost:8080/"
        },
        "id": "3C958It49z4N",
        "outputId": "274c7aff-c504-4a41-c790-b40100c446b8"
      },
      "execution_count": 13,
      "outputs": [
        {
          "output_type": "execute_result",
          "data": {
            "text/plain": [
              "BalancedRandomForestClassifier(n_estimators=500, random_state=1)"
            ]
          },
          "metadata": {},
          "execution_count": 13
        }
      ]
    },
    {
      "cell_type": "code",
      "source": [
        "# Making predictions using the testing data.\n",
        "predictions = brf.predict(X_test_scaled)\n",
        "predictions"
      ],
      "metadata": {
        "colab": {
          "base_uri": "https://localhost:8080/"
        },
        "id": "lcEASe0nKwcZ",
        "outputId": "5bf40d5f-d9f2-481a-bf1b-e116af4cc863"
      },
      "execution_count": 14,
      "outputs": [
        {
          "output_type": "execute_result",
          "data": {
            "text/plain": [
              "array(['low_risk', 'low_risk', 'low_risk', ..., 'low_risk', 'low_risk',\n",
              "       'low_risk'], dtype=object)"
            ]
          },
          "metadata": {},
          "execution_count": 14
        }
      ]
    },
    {
      "cell_type": "code",
      "source": [
        "from sklearn.metrics import accuracy_score \n",
        "\n",
        "acc_score = accuracy_score(y_test, predictions)\n",
        "print(acc_score)"
      ],
      "metadata": {
        "colab": {
          "base_uri": "https://localhost:8080/"
        },
        "id": "TKFssvU-Maan",
        "outputId": "45bbe465-68e7-4e9c-d2b7-8fcb834e212c"
      },
      "execution_count": 15,
      "outputs": [
        {
          "output_type": "stream",
          "name": "stdout",
          "text": [
            "0.9013658820110433\n"
          ]
        }
      ]
    },
    {
      "cell_type": "code",
      "source": [
        "# Display the confusion matrix\n",
        "from sklearn.metrics import confusion_matrix, classification_report\n",
        "\n",
        "matrix = confusion_matrix(y_test, predictions)\n",
        "cm_df = pd.DataFrame(\n",
        "    matrix, index=[\"Actual High-Risk\", \"Actual Low-Risk\"], columns=[\"Predicted High_Risk\", \"Predicted Low_Risk\"])\n",
        "cm_df"
      ],
      "metadata": {
        "colab": {
          "base_uri": "https://localhost:8080/",
          "height": 112
        },
        "id": "g_Fo9xZYMnw2",
        "outputId": "f21b9a3e-1d42-40db-b718-9116c217be4c"
      },
      "execution_count": 16,
      "outputs": [
        {
          "output_type": "execute_result",
          "data": {
            "text/plain": [
              "                  Predicted High_Risk  Predicted Low_Risk\n",
              "Actual High-Risk                   66                  35\n",
              "Actual Low-Risk                  1662               15442"
            ],
            "text/html": [
              "\n",
              "  <div id=\"df-247adea6-c3d7-447d-bc79-29f31982546b\">\n",
              "    <div class=\"colab-df-container\">\n",
              "      <div>\n",
              "<style scoped>\n",
              "    .dataframe tbody tr th:only-of-type {\n",
              "        vertical-align: middle;\n",
              "    }\n",
              "\n",
              "    .dataframe tbody tr th {\n",
              "        vertical-align: top;\n",
              "    }\n",
              "\n",
              "    .dataframe thead th {\n",
              "        text-align: right;\n",
              "    }\n",
              "</style>\n",
              "<table border=\"1\" class=\"dataframe\">\n",
              "  <thead>\n",
              "    <tr style=\"text-align: right;\">\n",
              "      <th></th>\n",
              "      <th>Predicted High_Risk</th>\n",
              "      <th>Predicted Low_Risk</th>\n",
              "    </tr>\n",
              "  </thead>\n",
              "  <tbody>\n",
              "    <tr>\n",
              "      <th>Actual High-Risk</th>\n",
              "      <td>66</td>\n",
              "      <td>35</td>\n",
              "    </tr>\n",
              "    <tr>\n",
              "      <th>Actual Low-Risk</th>\n",
              "      <td>1662</td>\n",
              "      <td>15442</td>\n",
              "    </tr>\n",
              "  </tbody>\n",
              "</table>\n",
              "</div>\n",
              "      <button class=\"colab-df-convert\" onclick=\"convertToInteractive('df-247adea6-c3d7-447d-bc79-29f31982546b')\"\n",
              "              title=\"Convert this dataframe to an interactive table.\"\n",
              "              style=\"display:none;\">\n",
              "        \n",
              "  <svg xmlns=\"http://www.w3.org/2000/svg\" height=\"24px\"viewBox=\"0 0 24 24\"\n",
              "       width=\"24px\">\n",
              "    <path d=\"M0 0h24v24H0V0z\" fill=\"none\"/>\n",
              "    <path d=\"M18.56 5.44l.94 2.06.94-2.06 2.06-.94-2.06-.94-.94-2.06-.94 2.06-2.06.94zm-11 1L8.5 8.5l.94-2.06 2.06-.94-2.06-.94L8.5 2.5l-.94 2.06-2.06.94zm10 10l.94 2.06.94-2.06 2.06-.94-2.06-.94-.94-2.06-.94 2.06-2.06.94z\"/><path d=\"M17.41 7.96l-1.37-1.37c-.4-.4-.92-.59-1.43-.59-.52 0-1.04.2-1.43.59L10.3 9.45l-7.72 7.72c-.78.78-.78 2.05 0 2.83L4 21.41c.39.39.9.59 1.41.59.51 0 1.02-.2 1.41-.59l7.78-7.78 2.81-2.81c.8-.78.8-2.07 0-2.86zM5.41 20L4 18.59l7.72-7.72 1.47 1.35L5.41 20z\"/>\n",
              "  </svg>\n",
              "      </button>\n",
              "      \n",
              "  <style>\n",
              "    .colab-df-container {\n",
              "      display:flex;\n",
              "      flex-wrap:wrap;\n",
              "      gap: 12px;\n",
              "    }\n",
              "\n",
              "    .colab-df-convert {\n",
              "      background-color: #E8F0FE;\n",
              "      border: none;\n",
              "      border-radius: 50%;\n",
              "      cursor: pointer;\n",
              "      display: none;\n",
              "      fill: #1967D2;\n",
              "      height: 32px;\n",
              "      padding: 0 0 0 0;\n",
              "      width: 32px;\n",
              "    }\n",
              "\n",
              "    .colab-df-convert:hover {\n",
              "      background-color: #E2EBFA;\n",
              "      box-shadow: 0px 1px 2px rgba(60, 64, 67, 0.3), 0px 1px 3px 1px rgba(60, 64, 67, 0.15);\n",
              "      fill: #174EA6;\n",
              "    }\n",
              "\n",
              "    [theme=dark] .colab-df-convert {\n",
              "      background-color: #3B4455;\n",
              "      fill: #D2E3FC;\n",
              "    }\n",
              "\n",
              "    [theme=dark] .colab-df-convert:hover {\n",
              "      background-color: #434B5C;\n",
              "      box-shadow: 0px 1px 3px 1px rgba(0, 0, 0, 0.15);\n",
              "      filter: drop-shadow(0px 1px 2px rgba(0, 0, 0, 0.3));\n",
              "      fill: #FFFFFF;\n",
              "    }\n",
              "  </style>\n",
              "\n",
              "      <script>\n",
              "        const buttonEl =\n",
              "          document.querySelector('#df-247adea6-c3d7-447d-bc79-29f31982546b button.colab-df-convert');\n",
              "        buttonEl.style.display =\n",
              "          google.colab.kernel.accessAllowed ? 'block' : 'none';\n",
              "\n",
              "        async function convertToInteractive(key) {\n",
              "          const element = document.querySelector('#df-247adea6-c3d7-447d-bc79-29f31982546b');\n",
              "          const dataTable =\n",
              "            await google.colab.kernel.invokeFunction('convertToInteractive',\n",
              "                                                     [key], {});\n",
              "          if (!dataTable) return;\n",
              "\n",
              "          const docLinkHtml = 'Like what you see? Visit the ' +\n",
              "            '<a target=\"_blank\" href=https://colab.research.google.com/notebooks/data_table.ipynb>data table notebook</a>'\n",
              "            + ' to learn more about interactive tables.';\n",
              "          element.innerHTML = '';\n",
              "          dataTable['output_type'] = 'display_data';\n",
              "          await google.colab.output.renderOutput(dataTable, element);\n",
              "          const docLink = document.createElement('div');\n",
              "          docLink.innerHTML = docLinkHtml;\n",
              "          element.appendChild(docLink);\n",
              "        }\n",
              "      </script>\n",
              "    </div>\n",
              "  </div>\n",
              "  "
            ]
          },
          "metadata": {},
          "execution_count": 16
        }
      ]
    },
    {
      "cell_type": "code",
      "source": [
        "# Print the imbalanced classification report\n",
        "from imblearn.metrics import classification_report_imbalanced \n",
        "print(classification_report_imbalanced(y_test, predictions))"
      ],
      "metadata": {
        "colab": {
          "base_uri": "https://localhost:8080/"
        },
        "id": "iygKX7n2MAgD",
        "outputId": "c348cab8-cff9-4562-98a9-6446d87f8a49"
      },
      "execution_count": 17,
      "outputs": [
        {
          "output_type": "stream",
          "name": "stdout",
          "text": [
            "                   pre       rec       spe        f1       geo       iba       sup\n",
            "\n",
            "  high_risk       0.04      0.65      0.90      0.07      0.77      0.58       101\n",
            "   low_risk       1.00      0.90      0.65      0.95      0.77      0.60     17104\n",
            "\n",
            "avg / total       0.99      0.90      0.65      0.94      0.77      0.60     17205\n",
            "\n"
          ]
        }
      ]
    },
    {
      "cell_type": "code",
      "source": [
        "# List the features sorted in descending order by feature importance\n",
        "\n",
        "sorted(zip(brf.feature_importances_, X.columns), reverse=True)"
      ],
      "metadata": {
        "colab": {
          "base_uri": "https://localhost:8080/"
        },
        "id": "BK9c6n2YM-wH",
        "outputId": "e2a0999b-fcfd-43fb-dc39-638d8cf6a08c"
      },
      "execution_count": 18,
      "outputs": [
        {
          "output_type": "execute_result",
          "data": {
            "text/plain": [
              "[(0.06661463495120314, 'total_rec_prncp'),\n",
              " (0.06318721529567178, 'total_rec_int'),\n",
              " (0.06061788889673201, 'total_pymnt'),\n",
              " (0.05826808075239343, 'total_pymnt_inv'),\n",
              " (0.0517793455702452, 'last_pymnt_amnt'),\n",
              " (0.030814261825048914, 'int_rate'),\n",
              " (0.018223876144473468, 'issue_d_Jan-2019'),\n",
              " (0.01758748442537316, 'installment'),\n",
              " (0.01701350913498804, 'dti'),\n",
              " (0.01643946938793743, 'mo_sin_old_rev_tl_op'),\n",
              " (0.01638879681134762, 'mths_since_recent_inq'),\n",
              " (0.01598335431546418, 'max_bal_bc'),\n",
              " (0.01582245081932586, 'out_prncp'),\n",
              " (0.015375773559199038, 'issue_d_Mar-2019'),\n",
              " (0.015335352361938786, 'out_prncp_inv'),\n",
              " (0.015039951662678231, 'total_bal_ex_mort'),\n",
              " (0.014672217013232325, 'avg_cur_bal'),\n",
              " (0.014515194032758657, 'tot_hi_cred_lim'),\n",
              " (0.014340120491331286, 'revol_bal'),\n",
              " (0.014264818693198206, 'annual_inc'),\n",
              " (0.013938521774605056, 'all_util'),\n",
              " (0.013757719619549559, 'total_rev_hi_lim'),\n",
              " (0.013740413820085784, 'bc_util'),\n",
              " (0.013613755428855435, 'total_bc_limit'),\n",
              " (0.01354320917024013, 'mo_sin_old_il_acct'),\n",
              " (0.01329915892795408, 'tot_cur_bal'),\n",
              " (0.013237432209615487, 'bc_open_to_buy'),\n",
              " (0.0131435054133756, 'total_bal_il'),\n",
              " (0.01294102845181073, 'mths_since_rcnt_il'),\n",
              " (0.012544577587869072, 'il_util'),\n",
              " (0.012374080719326703, 'loan_amnt'),\n",
              " (0.011589099026255392, 'mths_since_recent_bc'),\n",
              " (0.01151332547838206, 'total_il_high_credit_limit'),\n",
              " (0.01112946023954866, 'total_acc'),\n",
              " (0.010760347708985592, 'mo_sin_rcnt_rev_tl_op'),\n",
              " (0.010502638989345113, 'inq_last_12m'),\n",
              " (0.010249492079549845, 'num_il_tl'),\n",
              " (0.010213250147373879, 'num_rev_accts'),\n",
              " (0.010022778159725954, 'pct_tl_nvr_dlq'),\n",
              " (0.009670972494776485, 'mo_sin_rcnt_tl'),\n",
              " (0.009221983421739398, 'num_bc_tl'),\n",
              " (0.00916222517791571, 'num_sats'),\n",
              " (0.008628207574469216, 'num_actv_rev_tl'),\n",
              " (0.008405628259358153, 'open_il_24m'),\n",
              " (0.008132132818009645, 'open_acc'),\n",
              " (0.008130141767267061, 'acc_open_past_24mths'),\n",
              " (0.008119755119503861, 'num_op_rev_tl'),\n",
              " (0.007704066950542759, 'num_rev_tl_bal_gt_0'),\n",
              " (0.007413118831816394, 'num_bc_sats'),\n",
              " (0.007281299761749884, 'inq_fi'),\n",
              " (0.007220056958308362, 'num_tl_op_past_12m'),\n",
              " (0.007164731506007521, 'total_rec_late_fee'),\n",
              " (0.007018368297580994, 'open_act_il'),\n",
              " (0.006955650835148484, 'open_acc_6m'),\n",
              " (0.006749861155336104, 'num_actv_bc_tl'),\n",
              " (0.006605675054081339, 'percent_bc_gt_75'),\n",
              " (0.0063994444116548, 'total_cu_tl'),\n",
              " (0.005937135289542915, 'open_rv_24m'),\n",
              " (0.005900752004182788, 'inq_last_6mths'),\n",
              " (0.005632814516365807, 'mort_acc'),\n",
              " (0.0050364788885488825, 'next_pymnt_d_Apr-2019'),\n",
              " (0.004852500903680203, 'open_il_12m'),\n",
              " (0.004739629130406909, 'issue_d_Feb-2019'),\n",
              " (0.004681638637513726, 'open_rv_12m'),\n",
              " (0.0045938431281300875, 'next_pymnt_d_May-2019'),\n",
              " (0.00453717228377832, 'tot_coll_amt'),\n",
              " (0.0031509142420106506, 'num_accts_ever_120_pd'),\n",
              " (0.003104913468157793, 'delinq_2yrs'),\n",
              " (0.0021690931618630156, 'verification_status_Not Verified'),\n",
              " (0.0021254149953636847, 'home_ownership_RENT'),\n",
              " (0.002043986061244079, 'application_type_Individual'),\n",
              " (0.0020339234397456227, 'verification_status_Verified'),\n",
              " (0.0019155075206537598, 'application_type_Joint App'),\n",
              " (0.0019055235792357435, 'home_ownership_MORTGAGE'),\n",
              " (0.0018237855925908127, 'home_ownership_OWN'),\n",
              " (0.0018090040784838923, 'verification_status_Source Verified'),\n",
              " (0.001719871418260266, 'pub_rec_bankruptcies'),\n",
              " (0.0016225727760811638, 'pub_rec'),\n",
              " (0.0013503680710984511, 'initial_list_status_w'),\n",
              " (0.0011870895424150524, 'initial_list_status_f'),\n",
              " (0.0008288701751648158, 'num_tl_90g_dpd_24m'),\n",
              " (0.0005304828922961909, 'collections_12_mths_ex_med'),\n",
              " (0.0002786112597078863, 'home_ownership_ANY'),\n",
              " (0.00010719145121639157, 'chargeoff_within_12_mths'),\n",
              " (0.0, 'tax_liens'),\n",
              " (0.0, 'recoveries'),\n",
              " (0.0, 'pymnt_plan_n'),\n",
              " (0.0, 'policy_code'),\n",
              " (0.0, 'num_tl_30dpd'),\n",
              " (0.0, 'num_tl_120dpd_2m'),\n",
              " (0.0, 'hardship_flag_N'),\n",
              " (0.0, 'delinq_amnt'),\n",
              " (0.0, 'debt_settlement_flag_N'),\n",
              " (0.0, 'collection_recovery_fee'),\n",
              " (0.0, 'acc_now_delinq')]"
            ]
          },
          "metadata": {},
          "execution_count": 18
        }
      ]
    },
    {
      "cell_type": "markdown",
      "source": [
        "# Easy Ensemble AdaBoost Classifier"
      ],
      "metadata": {
        "id": "mXHY0SOM8rtl"
      }
    },
    {
      "cell_type": "code",
      "source": [
        "\n",
        "# Train the EasyEnsembleClassifier\n",
        "from imblearn.ensemble import EasyEnsembleClassifier\n",
        "\n",
        "eec = EasyEnsembleClassifier(n_estimators=100, random_state=1)\n",
        "eec.fit(X_train, y_train)"
      ],
      "metadata": {
        "colab": {
          "base_uri": "https://localhost:8080/"
        },
        "id": "rxTcs-UJNyLD",
        "outputId": "b654ea60-8565-45ba-ecb7-8c8632470600"
      },
      "execution_count": 19,
      "outputs": [
        {
          "output_type": "execute_result",
          "data": {
            "text/plain": [
              "EasyEnsembleClassifier(n_estimators=100, random_state=1)"
            ]
          },
          "metadata": {},
          "execution_count": 19
        }
      ]
    },
    {
      "cell_type": "code",
      "source": [
        "# Calculated the balanced accuracy score\n",
        "# YOUR CODE HERE\n",
        "from sklearn.metrics import accuracy_score \n",
        "\n",
        "acc_score = accuracy_score(y_test, predictions)\n",
        "print(acc_score)"
      ],
      "metadata": {
        "colab": {
          "base_uri": "https://localhost:8080/"
        },
        "id": "juWbjG-ukGMT",
        "outputId": "47f6b2db-a16f-4f17-a3a2-57b86875513f"
      },
      "execution_count": 20,
      "outputs": [
        {
          "output_type": "stream",
          "name": "stdout",
          "text": [
            "0.9013658820110433\n"
          ]
        }
      ]
    },
    {
      "cell_type": "code",
      "source": [
        "# Display the confusion matrix\n",
        "# YOUR CODE HERE\n",
        "from sklearn.metrics import confusion_matrix, classification_report\n",
        "\n",
        "cm_df = pd.DataFrame(\n",
        "    matrix, index=[\"Actual High-Risk\", \"Actual Low-Risk\"], columns=[\"Predicted High_Risk\", \"Predicted Low_Risk\"])\n",
        "cm_df"
      ],
      "metadata": {
        "colab": {
          "base_uri": "https://localhost:8080/",
          "height": 112
        },
        "id": "nfRHjKtwkcio",
        "outputId": "5446b8b1-6a45-42a6-dfe8-34ea86af8657"
      },
      "execution_count": 21,
      "outputs": [
        {
          "output_type": "execute_result",
          "data": {
            "text/plain": [
              "                  Predicted High_Risk  Predicted Low_Risk\n",
              "Actual High-Risk                   66                  35\n",
              "Actual Low-Risk                  1662               15442"
            ],
            "text/html": [
              "\n",
              "  <div id=\"df-bb23d6d9-a15a-4f68-acbb-0c008ac47a96\">\n",
              "    <div class=\"colab-df-container\">\n",
              "      <div>\n",
              "<style scoped>\n",
              "    .dataframe tbody tr th:only-of-type {\n",
              "        vertical-align: middle;\n",
              "    }\n",
              "\n",
              "    .dataframe tbody tr th {\n",
              "        vertical-align: top;\n",
              "    }\n",
              "\n",
              "    .dataframe thead th {\n",
              "        text-align: right;\n",
              "    }\n",
              "</style>\n",
              "<table border=\"1\" class=\"dataframe\">\n",
              "  <thead>\n",
              "    <tr style=\"text-align: right;\">\n",
              "      <th></th>\n",
              "      <th>Predicted High_Risk</th>\n",
              "      <th>Predicted Low_Risk</th>\n",
              "    </tr>\n",
              "  </thead>\n",
              "  <tbody>\n",
              "    <tr>\n",
              "      <th>Actual High-Risk</th>\n",
              "      <td>66</td>\n",
              "      <td>35</td>\n",
              "    </tr>\n",
              "    <tr>\n",
              "      <th>Actual Low-Risk</th>\n",
              "      <td>1662</td>\n",
              "      <td>15442</td>\n",
              "    </tr>\n",
              "  </tbody>\n",
              "</table>\n",
              "</div>\n",
              "      <button class=\"colab-df-convert\" onclick=\"convertToInteractive('df-bb23d6d9-a15a-4f68-acbb-0c008ac47a96')\"\n",
              "              title=\"Convert this dataframe to an interactive table.\"\n",
              "              style=\"display:none;\">\n",
              "        \n",
              "  <svg xmlns=\"http://www.w3.org/2000/svg\" height=\"24px\"viewBox=\"0 0 24 24\"\n",
              "       width=\"24px\">\n",
              "    <path d=\"M0 0h24v24H0V0z\" fill=\"none\"/>\n",
              "    <path d=\"M18.56 5.44l.94 2.06.94-2.06 2.06-.94-2.06-.94-.94-2.06-.94 2.06-2.06.94zm-11 1L8.5 8.5l.94-2.06 2.06-.94-2.06-.94L8.5 2.5l-.94 2.06-2.06.94zm10 10l.94 2.06.94-2.06 2.06-.94-2.06-.94-.94-2.06-.94 2.06-2.06.94z\"/><path d=\"M17.41 7.96l-1.37-1.37c-.4-.4-.92-.59-1.43-.59-.52 0-1.04.2-1.43.59L10.3 9.45l-7.72 7.72c-.78.78-.78 2.05 0 2.83L4 21.41c.39.39.9.59 1.41.59.51 0 1.02-.2 1.41-.59l7.78-7.78 2.81-2.81c.8-.78.8-2.07 0-2.86zM5.41 20L4 18.59l7.72-7.72 1.47 1.35L5.41 20z\"/>\n",
              "  </svg>\n",
              "      </button>\n",
              "      \n",
              "  <style>\n",
              "    .colab-df-container {\n",
              "      display:flex;\n",
              "      flex-wrap:wrap;\n",
              "      gap: 12px;\n",
              "    }\n",
              "\n",
              "    .colab-df-convert {\n",
              "      background-color: #E8F0FE;\n",
              "      border: none;\n",
              "      border-radius: 50%;\n",
              "      cursor: pointer;\n",
              "      display: none;\n",
              "      fill: #1967D2;\n",
              "      height: 32px;\n",
              "      padding: 0 0 0 0;\n",
              "      width: 32px;\n",
              "    }\n",
              "\n",
              "    .colab-df-convert:hover {\n",
              "      background-color: #E2EBFA;\n",
              "      box-shadow: 0px 1px 2px rgba(60, 64, 67, 0.3), 0px 1px 3px 1px rgba(60, 64, 67, 0.15);\n",
              "      fill: #174EA6;\n",
              "    }\n",
              "\n",
              "    [theme=dark] .colab-df-convert {\n",
              "      background-color: #3B4455;\n",
              "      fill: #D2E3FC;\n",
              "    }\n",
              "\n",
              "    [theme=dark] .colab-df-convert:hover {\n",
              "      background-color: #434B5C;\n",
              "      box-shadow: 0px 1px 3px 1px rgba(0, 0, 0, 0.15);\n",
              "      filter: drop-shadow(0px 1px 2px rgba(0, 0, 0, 0.3));\n",
              "      fill: #FFFFFF;\n",
              "    }\n",
              "  </style>\n",
              "\n",
              "      <script>\n",
              "        const buttonEl =\n",
              "          document.querySelector('#df-bb23d6d9-a15a-4f68-acbb-0c008ac47a96 button.colab-df-convert');\n",
              "        buttonEl.style.display =\n",
              "          google.colab.kernel.accessAllowed ? 'block' : 'none';\n",
              "\n",
              "        async function convertToInteractive(key) {\n",
              "          const element = document.querySelector('#df-bb23d6d9-a15a-4f68-acbb-0c008ac47a96');\n",
              "          const dataTable =\n",
              "            await google.colab.kernel.invokeFunction('convertToInteractive',\n",
              "                                                     [key], {});\n",
              "          if (!dataTable) return;\n",
              "\n",
              "          const docLinkHtml = 'Like what you see? Visit the ' +\n",
              "            '<a target=\"_blank\" href=https://colab.research.google.com/notebooks/data_table.ipynb>data table notebook</a>'\n",
              "            + ' to learn more about interactive tables.';\n",
              "          element.innerHTML = '';\n",
              "          dataTable['output_type'] = 'display_data';\n",
              "          await google.colab.output.renderOutput(dataTable, element);\n",
              "          const docLink = document.createElement('div');\n",
              "          docLink.innerHTML = docLinkHtml;\n",
              "          element.appendChild(docLink);\n",
              "        }\n",
              "      </script>\n",
              "    </div>\n",
              "  </div>\n",
              "  "
            ]
          },
          "metadata": {},
          "execution_count": 21
        }
      ]
    },
    {
      "cell_type": "code",
      "source": [
        "# Print the imbalanced classification report\n",
        "# YOUR CODE HERE\n",
        "from imblearn.metrics import classification_report_imbalanced\n",
        "\n",
        "print(classification_report_imbalanced(y_test, predictions))"
      ],
      "metadata": {
        "colab": {
          "base_uri": "https://localhost:8080/"
        },
        "id": "a4K8vR-akgcu",
        "outputId": "cfd96622-57fa-4462-8870-6570bb7186b5"
      },
      "execution_count": 26,
      "outputs": [
        {
          "output_type": "stream",
          "name": "stdout",
          "text": [
            "                   pre       rec       spe        f1       geo       iba       sup\n",
            "\n",
            "  high_risk       0.04      0.65      0.90      0.07      0.77      0.58       101\n",
            "   low_risk       1.00      0.90      0.65      0.95      0.77      0.60     17104\n",
            "\n",
            "avg / total       0.99      0.90      0.65      0.94      0.77      0.60     17205\n",
            "\n"
          ]
        }
      ]
    }
  ]
}